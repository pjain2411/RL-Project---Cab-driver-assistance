{
 "cells": [
  {
   "cell_type": "markdown",
   "metadata": {},
   "source": [
    "### Cab-Driver Agent"
   ]
  },
  {
   "cell_type": "code",
   "execution_count": 1,
   "metadata": {},
   "outputs": [
    {
     "name": "stderr",
     "output_type": "stream",
     "text": [
      "Using TensorFlow backend.\n"
     ]
    }
   ],
   "source": [
    "# Importing libraries\n",
    "import numpy as np\n",
    "import random\n",
    "import math\n",
    "from collections import deque\n",
    "import collections\n",
    "import pickle\n",
    "import time\n",
    "\n",
    "# for building DQN model\n",
    "from keras import layers\n",
    "from keras import Sequential\n",
    "from keras.layers import Dense, Activation, Flatten\n",
    "from keras.optimizers import Adam\n",
    "\n",
    "# for plotting graphs\n",
    "import matplotlib.pyplot as plt\n",
    "\n",
    "# Import the environment\n",
    "from Env import CabDriver\n",
    "env=CabDriver()"
   ]
  },
  {
   "cell_type": "markdown",
   "metadata": {},
   "source": [
    "#### Defining Time Matrix"
   ]
  },
  {
   "cell_type": "code",
   "execution_count": 2,
   "metadata": {},
   "outputs": [],
   "source": [
    "# Loading the time matrix provided\n",
    "Time_matrix = np.load(\"TM.npy\")"
   ]
  },
  {
   "cell_type": "code",
   "execution_count": 3,
   "metadata": {},
   "outputs": [
    {
     "data": {
      "text/plain": [
       "8.0"
      ]
     },
     "execution_count": 3,
     "metadata": {},
     "output_type": "execute_result"
    }
   ],
   "source": [
    "Time_matrix[1][2][23][6]\n"
   ]
  },
  {
   "cell_type": "markdown",
   "metadata": {},
   "source": [
    "#### Tracking the state-action pairs for checking convergence\n"
   ]
  },
  {
   "cell_type": "code",
   "execution_count": 4,
   "metadata": {},
   "outputs": [],
   "source": [
    "#Defining a function to save the Q-dictionary as a pickle file\n",
    "def save_obj(obj, name ):\n",
    "    with open(name + '.pkl', 'wb') as f:\n",
    "        pickle.dump(obj, f, pickle.HIGHEST_PROTOCOL)"
   ]
  },
  {
   "cell_type": "markdown",
   "metadata": {},
   "source": [
    "### Agent Class\n",
    "\n",
    "If you are using this framework, you need to fill the following to complete the following code block:\n",
    "1. State and Action Size\n",
    "2. Hyperparameters\n",
    "3. Create a neural-network model in function 'build_model()'\n",
    "4. Define epsilon-greedy strategy in function 'get_action()'\n",
    "5. Complete the function 'append_sample()'. This function appends the recent experience tuple <state, action, reward, new-state> to the memory\n",
    "6. Complete the 'train_model()' function with following logic:\n",
    "   - If the memory size is greater than mini-batch size, you randomly sample experiences from memory as per the mini-batch size and do the following:\n",
    "      - Initialise your input and output batch for training the model\n",
    "      - Calculate the target Q value for each sample: reward + gamma*max(Q(s'a,))\n",
    "      - Get Q(s', a) values from the last trained model\n",
    "      - Update the input batch as your encoded state and output batch as your Q-values\n",
    "      - Then fit your DQN model using the updated input and output batch."
   ]
  },
  {
   "cell_type": "code",
   "execution_count": 5,
   "metadata": {},
   "outputs": [],
   "source": [
    "class DQNAgent:\n",
    "    def __init__(self, state_size, action_size):\n",
    "        # Define size of state and action\n",
    "        self.state_size = state_size\n",
    "        self.action_size = action_size\n",
    "\n",
    "        # Write here: Specify you hyper parameters for the DQN\n",
    "        self.discount_factor = 0.95\n",
    "        self.learning_rate = 0.01   \n",
    "        self.epsilon_max = 1\n",
    "        self.epsilon = 1\n",
    "        self.epsilon_decay = 0.99\n",
    "        self.epsilon_min = 0.01\n",
    "        \n",
    "        self.batch_size = 32        \n",
    "        # create replay memory using deque\n",
    "        self.memory = deque(maxlen=2000)\n",
    "\n",
    "        # create main model and target model\n",
    "        self.model = self.build_model()\n",
    "        \n",
    "        self.states_tracked = []\n",
    "        \n",
    "        # We are going to track state [0,0,0] and action (0,2) at index 2 in the action space.\n",
    "        self.track_state = np.array(env.state_encod_arch1([0,0,0])).reshape(1, 36) \n",
    "        \n",
    "    def save_tracking_states(self):\n",
    "        # Use the model to predict the q_value of the state we are tacking.\n",
    "        q_value = self.model.predict(self.track_state)\n",
    "\n",
    "        # Grab the q_value of the action index that we are tracking.\n",
    "        self.states_tracked.append(q_value[0][2])\n",
    "    \n",
    "    def save_test_states(self):\n",
    "        # Use the model to predict the q_value of the state we are tacking.\n",
    "        q_value = self.model.predict(self.track_state)\n",
    "\n",
    "        # Grab the q_value of the action index that we are tracking.\n",
    "        self.states_test.append(q_value[0][2])   \n",
    "    \n",
    "\n",
    "    # approximate Q function using Neural Network\n",
    "    def build_model(self):\n",
    "        model = Sequential()\n",
    "        # Write your code here: Add layers to your neural nets \n",
    "        model.add(Dense(32, input_dim=self.state_size, activation='relu', kernel_initializer='he_uniform'))\n",
    "        model.add(Dense(32, activation='relu', kernel_initializer='he_uniform'))\n",
    "\n",
    "        # the output layer: output is of size num_actions\n",
    "        model.add(Dense(self.action_size, activation='relu', kernel_initializer='he_uniform'))\n",
    "        \n",
    "        model.compile(loss='mse',optimizer=Adam(lr=self.learning_rate))\n",
    "        model.summary\n",
    "        return model\n",
    "    \n",
    "    def train_model(self): \n",
    "        \n",
    "        if len(self.memory) > self.batch_size:\n",
    "            # Sample batch from the memory\n",
    "            mini_batch = random.sample(self.memory, self.batch_size)\n",
    "            update_output = np.zeros((self.batch_size, self.state_size))# write here\n",
    "            update_input = np.zeros((self.batch_size, self.state_size))# write here\n",
    "            \n",
    "            actions, rewards, done = [], [], []\n",
    "            \n",
    "            for i in range(self.batch_size):\n",
    "                state, action, reward, next_state,isterminal = mini_batch[i]\n",
    "                update_input[i] = state\n",
    "                actions.append(action)\n",
    "                rewards.append(reward)\n",
    "                done.append(isterminal)\n",
    "                update_output[i] = next_state\n",
    "                \n",
    "                \n",
    "            # Write your code from here\n",
    "            # 1. Predict the target from earlier model\n",
    "            target = self.model.predict(update_input)\n",
    "                \n",
    "                \n",
    "            # 2. Get the target for the Q-network\n",
    "            target_qval = self.model.predict(update_output)\n",
    "                \n",
    "                \n",
    "            #3. Update your 'update_output' and 'update_input' batch\n",
    "            for i in range(self.batch_size):\n",
    "                next_possible_actions_index,_ = env.requests(update_output[i])\n",
    "                next_possible_actions_index.append(0)\n",
    "                if not done[i]:\n",
    "                    target[i][actions[i]] = rewards[i] + self.discount_factor * np.max(np.array([target_qval[i][j] for j in next_possible_actions_index]))\n",
    "                else:\n",
    "                    target[i][actions[i]] = rewards[i]\n",
    "                        \n",
    "                # 4. Fit your model and track the loss values\n",
    "            self.model.fit(update_input, target, batch_size=self.batch_size, epochs=1, verbose=0)\n",
    "        \n",
    "    def save(self, name):\n",
    "        self.model.save(name)\n",
    "        \n",
    "    def append_sample(self, state, action, reward, next_state,isterminal):\n",
    "        self.memory.append((state, action, reward, next_state,isterminal))\n",
    "        \n",
    "    def get_action(self, state,episode):\n",
    "        self.epsilon = self.epsilon_min + (self.epsilon_max - self.epsilon_min) * np.exp(-self.epsilon_decay*episode)\n",
    "        possible_actions_index,actions = env.requests(env.state_encod_arch1(state)) # Find possible action indexes and append 0\n",
    "        possible_actions_index.append(0)\n",
    "#         print(\"possible_actions_index\",possible_actions_index)\n",
    "#         print(\"actions\",actions)\n",
    "        if np.random.rand() <= self.epsilon:\n",
    "            return random.sample(possible_actions_index,1)[0]\n",
    "        else:\n",
    "            state = (env.state_encod_arch1(state)).reshape(1, self.state_size)\n",
    "            q_value = self.model.predict(state)\n",
    "            return np.where(q_value[0] == np.max(np.array([q_value[0][i] for i in possible_actions_index])))[0][0]"
   ]
  },
  {
   "cell_type": "code",
   "execution_count": 6,
   "metadata": {},
   "outputs": [],
   "source": [
    "Episodes = 50\n",
    "threshold = 5       #every these many episodes, the 4 Q-values will be stored/appended (convergence graphs)"
   ]
  },
  {
   "cell_type": "code",
   "execution_count": 7,
   "metadata": {},
   "outputs": [],
   "source": [
    "# action_space = [[i,j] for i in range(5) for j in range(5) if (i!=j) or ((i==0) and (j==0))] \n",
    "# len(action_space)"
   ]
  },
  {
   "cell_type": "markdown",
   "metadata": {},
   "source": [
    "### DQN block"
   ]
  },
  {
   "cell_type": "code",
   "execution_count": 8,
   "metadata": {
    "scrolled": true
   },
   "outputs": [
    {
     "name": "stdout",
     "output_type": "stream",
     "text": [
      "WARNING:tensorflow:From C:\\Anaconda\\lib\\site-packages\\tensorflow_core\\python\\ops\\resource_variable_ops.py:1630: calling BaseResourceVariable.__init__ (from tensorflow.python.ops.resource_variable_ops) with constraint is deprecated and will be removed in a future version.\n",
      "Instructions for updating:\n",
      "If using Keras pass *_constraint arguments to layers.\n",
      "WARNING:tensorflow:From C:\\Anaconda\\lib\\site-packages\\keras\\backend\\tensorflow_backend.py:422: The name tf.global_variables is deprecated. Please use tf.compat.v1.global_variables instead.\n",
      "\n",
      "episode 0, reward per episode -137.0, memory_length 150, epsilon 1.0, time 724.0, rides 150\n",
      "Saving Model 0\n",
      "episode 1, reward per episode -401.0, memory_length 153, epsilon 0.37786092411182526, time 730.0, rides 153\n",
      "episode 2, reward per episode -142.0, memory_length 144, epsilon 0.1466885449377839, time 734.0, rides 144\n",
      "episode 3, reward per episode -23.0, memory_length 141, epsilon 0.06079027722859995, time 721.0, rides 141\n",
      "episode 4, reward per episode -311.0, memory_length 147, epsilon 0.02887248314869552, time 721.0, rides 147\n",
      "episode 5, reward per episode -202.0, memory_length 159, epsilon 0.017012574839761596, time 728.0, rides 159\n",
      "episode 6, reward per episode 12.0, memory_length 167, epsilon 0.012605709354503069, time 723.0, rides 167\n",
      "episode 7, reward per episode -212.0, memory_length 171, epsilon 0.010968220859711442, time 721.0, rides 171\n",
      "episode 8, reward per episode 196.0, memory_length 146, epsilon 0.010359768303230097, time 724.0, rides 146\n",
      "episode 9, reward per episode -118.0, memory_length 151, epsilon 0.010133681515648855, time 722.0, rides 151\n",
      "episode 10, reward per episode -257.0, memory_length 145, epsilon 0.010049672935235614, time 721.0, rides 145\n",
      "episode 11, reward per episode 12.0, memory_length 130, epsilon 0.010018457304908203, time 723.0, rides 130\n",
      "episode 12, reward per episode -258.0, memory_length 140, epsilon 0.010006858304282974, time 723.0, rides 140\n",
      "episode 13, reward per episode 100.0, memory_length 118, epsilon 0.01000254838601149, time 727.0, rides 118\n",
      "episode 14, reward per episode -147.0, memory_length 135, epsilon 0.010000946920841596, time 726.0, rides 135\n",
      "episode 15, reward per episode -223.0, memory_length 171, epsilon 0.01000035185371298, time 725.0, rides 171\n",
      "episode 16, reward per episode 53.0, memory_length 132, epsilon 0.010000130740638394, time 722.0, rides 132\n",
      "episode 17, reward per episode -46.0, memory_length 145, epsilon 0.010000048580173797, time 722.0, rides 145\n",
      "episode 18, reward per episode -146.0, memory_length 142, epsilon 0.010000018051260228, time 724.0, rides 142\n",
      "episode 19, reward per episode -668.0, memory_length 168, epsilon 0.010000006707427544, time 724.0, rides 168\n",
      "episode 20, reward per episode 6.0, memory_length 148, epsilon 0.010000002492323733, time 726.0, rides 148\n",
      "episode 21, reward per episode 58.0, memory_length 166, epsilon 0.010000000926089405, time 721.0, rides 166\n",
      "episode 22, reward per episode -329.0, memory_length 160, epsilon 0.010000000344113236, time 721.0, rides 160\n",
      "episode 23, reward per episode -230.0, memory_length 200, epsilon 0.010000000127864459, time 721.0, rides 200\n",
      "episode 24, reward per episode -299.0, memory_length 159, epsilon 0.010000000047511452, time 724.0, rides 159\n",
      "episode 25, reward per episode -124.0, memory_length 158, epsilon 0.01000000001765415, time 725.0, rides 158\n",
      "episode 26, reward per episode -213.0, memory_length 137, epsilon 0.010000000006559871, time 732.0, rides 137\n",
      "episode 27, reward per episode -529.0, memory_length 217, epsilon 0.010000000002437495, time 725.0, rides 217\n",
      "episode 28, reward per episode -310.0, memory_length 184, epsilon 0.010000000000905717, time 728.0, rides 184\n",
      "episode 29, reward per episode -303.0, memory_length 164, epsilon 0.010000000000336544, time 723.0, rides 164\n",
      "episode 30, reward per episode -204.0, memory_length 145, epsilon 0.010000000000125051, time 723.0, rides 145\n",
      "episode 31, reward per episode -338.0, memory_length 162, epsilon 0.010000000000046467, time 721.0, rides 162\n",
      "episode 32, reward per episode -520.0, memory_length 196, epsilon 0.010000000000017266, time 725.0, rides 196\n",
      "episode 33, reward per episode -392.0, memory_length 129, epsilon 0.010000000000006415, time 721.0, rides 129\n",
      "episode 34, reward per episode 229.0, memory_length 146, epsilon 0.010000000000002384, time 721.0, rides 146\n",
      "episode 35, reward per episode -119.0, memory_length 130, epsilon 0.010000000000000887, time 724.0, rides 130\n",
      "episode 36, reward per episode -45.0, memory_length 145, epsilon 0.01000000000000033, time 729.0, rides 145\n",
      "episode 37, reward per episode 184.0, memory_length 156, epsilon 0.010000000000000123, time 730.0, rides 156\n",
      "episode 38, reward per episode -115.0, memory_length 161, epsilon 0.010000000000000045, time 725.0, rides 161\n",
      "episode 39, reward per episode -199.0, memory_length 144, epsilon 0.010000000000000018, time 731.0, rides 144\n",
      "episode 40, reward per episode -266.0, memory_length 160, epsilon 0.010000000000000007, time 721.0, rides 160\n",
      "episode 41, reward per episode -419.0, memory_length 179, epsilon 0.010000000000000002, time 721.0, rides 179\n",
      "episode 42, reward per episode -101.0, memory_length 140, epsilon 0.01, time 724.0, rides 140\n",
      "episode 43, reward per episode -225.0, memory_length 164, epsilon 0.01, time 729.0, rides 164\n",
      "episode 44, reward per episode -9.0, memory_length 157, epsilon 0.01, time 729.0, rides 157\n",
      "episode 45, reward per episode -230.0, memory_length 190, epsilon 0.01, time 721.0, rides 190\n",
      "episode 46, reward per episode 58.0, memory_length 115, epsilon 0.01, time 721.0, rides 115\n",
      "episode 47, reward per episode -275.0, memory_length 164, epsilon 0.01, time 721.0, rides 164\n",
      "episode 48, reward per episode -397.0, memory_length 173, epsilon 0.01, time 731.0, rides 173\n",
      "episode 49, reward per episode 128.0, memory_length 145, epsilon 0.01, time 734.0, rides 145\n",
      "278.7702224254608\n"
     ]
    }
   ],
   "source": [
    "start_time = time.time()\n",
    "for episode in range(Episodes):\n",
    "\n",
    "    # Write code here\n",
    "    # Call the environment\n",
    "    # Call all the initialised variables of the environment\n",
    "    initial_state = env.state_init    #for the purpose of tracking reward\n",
    "    curr_state = env.state_init \n",
    "#     add_to_dict(curr_state)\n",
    "    reward = None\n",
    " \n",
    "    total_reward = 0\n",
    "    isterminal=False\n",
    "    \n",
    "\n",
    "    #Call the DQN agent\n",
    "    dqnagent = DQNAgent(36,21)\n",
    "    terminal_time=0\n",
    "    loop=0\n",
    "    \n",
    "    while isterminal != True:      \n",
    "        # Write your code here\n",
    "        # 1. Pick epsilon-greedy action from possible actions for the current state\n",
    "        # 2. Evaluate your reward and next state\n",
    "        # 3. Append the experience to the memory\n",
    "        # 4. Train the model by calling function agent.train_model\n",
    "        # 5. Keep a track of rewards, Q-values, loss \n",
    "        curr_action = dqnagent.get_action(curr_state,episode)\n",
    "        next_state,total_time = env.next_state_func(curr_state, env.action_space[curr_action],Time_matrix)\n",
    "        terminal_time=terminal_time+total_time\n",
    "        reward=env.reward_func(curr_state, env.action_space[curr_action], Time_matrix)\n",
    "#         print(\"current state {0}, current action index {1}, current action {2}, next state {3}\".format(curr_state,curr_action,env.action_space[curr_action],next_state))\n",
    "        \n",
    "        if terminal_time > 24*30:\n",
    "            isterminal=True\n",
    "            dqnagent.append_sample(env.state_encod_arch1(curr_state), curr_action, reward, env.state_encod_arch1(next_state),isterminal)            \n",
    "        else:\n",
    "            dqnagent.append_sample(env.state_encod_arch1(curr_state), curr_action, reward, env.state_encod_arch1(next_state),isterminal)            \n",
    "            \n",
    "        dqnagent.train_model()\n",
    "        \n",
    "        curr_state=next_state\n",
    "\n",
    "        total_reward += reward\n",
    "        \n",
    "        loop+= 1\n",
    "        \n",
    "    # every episode:\n",
    "    print(\"episode {0}, reward per episode {1}, memory_length {2}, epsilon {3}, time {4}, rides {5}\".format(episode,\n",
    "                                                                         total_reward,\n",
    "                                                                         len(dqnagent.memory),\n",
    "                                                                         dqnagent.epsilon,terminal_time,loop))\n",
    "     \n",
    "    # Save the Q_value of the state, action pair we are tracking\n",
    "    if ((episode + 1) % threshold == 0):\n",
    "        dqnagent.save_tracking_states() \n",
    "    \n",
    "   \n",
    "    # every few episodes:\n",
    "    if episode % 2000 == 0:\n",
    "        print(\"Saving Model {}\".format(episode))\n",
    "        # save model weights\n",
    "        save_obj(dqnagent.model, name=\"model_weights\")\n",
    "              \n",
    "\n",
    "elapsed_time = time.time() - start_time\n",
    "print(elapsed_time)\n",
    "        "
   ]
  },
  {
   "cell_type": "markdown",
   "metadata": {},
   "source": [
    "### Tracking Convergence"
   ]
  },
  {
   "cell_type": "code",
   "execution_count": 15,
   "metadata": {},
   "outputs": [],
   "source": [
    "# total_reward_sample = [total_reward[i] for i in range(len(total_reward)) if (i % 4 == 0)]\n",
    "# plt.title('Rewards per episode')\n",
    "# xaxis = np.asarray(range(0, len(total_reward_sample)))\n",
    "# plt.plot(xaxis,np.asarray(total_reward_sample))\n",
    "# plt.show()"
   ]
  },
  {
   "cell_type": "code",
   "execution_count": 9,
   "metadata": {},
   "outputs": [
    {
     "data": {
      "text/plain": [
       "[0.0]"
      ]
     },
     "execution_count": 9,
     "metadata": {},
     "output_type": "execute_result"
    }
   ],
   "source": [
    "dqnagent.states_tracked"
   ]
  },
  {
   "cell_type": "code",
   "execution_count": 10,
   "metadata": {},
   "outputs": [],
   "source": [
    "state_tracked_sample = [dqnagent.states_tracked[i] for i in range(len(dqnagent.states_tracked)) if dqnagent.states_tracked[i] < 1000]"
   ]
  },
  {
   "cell_type": "code",
   "execution_count": 11,
   "metadata": {},
   "outputs": [
    {
     "name": "stderr",
     "output_type": "stream",
     "text": [
      "C:\\Anaconda\\lib\\site-packages\\ipykernel_launcher.py:4: UserWarning: Data has no positive values, and therefore cannot be log-scaled.\n",
      "  after removing the cwd from sys.path.\n"
     ]
    },
    {
     "data": {
      "image/png": "[encoded data removed]",
      "text/plain": [
       "<Figure size 432x288 with 1 Axes>"
      ]
     },
     "metadata": {
      "needs_background": "light"
     },
     "output_type": "display_data"
    }
   ],
   "source": [
    "# plotting q value convergence for state action pairs\n",
    "plt.title('Q_value for state [0,0,0]  action (0,2)')\n",
    "xaxis = np.asarray(range(0, len(dqnagent.states_tracked)))\n",
    "plt.semilogy(xaxis,np.asarray(dqnagent.states_tracked))\n",
    "plt.show()"
   ]
  },
  {
   "cell_type": "markdown",
   "metadata": {},
   "source": [
    "#### Epsilon-decay sample function"
   ]
  },
  {
   "cell_type": "markdown",
   "metadata": {},
   "source": [
    "<div class=\"alert alert-block alert-info\">\n",
    "Try building a similar epsilon-decay function for your model.\n",
    "</div>"
   ]
  },
  {
   "cell_type": "code",
   "execution_count": 12,
   "metadata": {},
   "outputs": [],
   "source": [
    "time = np.arange(0,10000)\n",
    "epsilon = []\n",
    "for i in range(0,10000):\n",
    "    epsilon.append(0 + (1 - 0) * np.exp(-0.0009*i))"
   ]
  },
  {
   "cell_type": "code",
   "execution_count": 13,
   "metadata": {},
   "outputs": [
    {
     "data": {
      "image/png": "[encoded data removed]",
      "text/plain": [
       "<Figure size 432x288 with 1 Axes>"
      ]
     },
     "metadata": {
      "needs_background": "light"
     },
     "output_type": "display_data"
    }
   ],
   "source": [
    "plt.plot(time, epsilon)\n",
    "plt.show()"
   ]
  },
  {
   "cell_type": "code",
   "execution_count": null,
   "metadata": {},
   "outputs": [],
   "source": []
  }
 ],
 "metadata": {
  "kernelspec": {
   "display_name": "Python 3",
   "language": "python",
   "name": "python3"
  },
  "language_info": {
   "codemirror_mode": {
    "name": "ipython",
    "version": 3
   },
   "file_extension": ".py",
   "mimetype": "text/x-python",
   "name": "python",
   "nbconvert_exporter": "python",
   "pygments_lexer": "ipython3",
   "version": "3.7.3"
  }
 },
 "nbformat": 4,
 "nbformat_minor": 2
}
